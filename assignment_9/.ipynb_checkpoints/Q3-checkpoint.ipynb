{
 "cells": [
  {
   "cell_type": "markdown",
   "id": "d04d1b60-c938-4c91-9815-39791f302955",
   "metadata": {},
   "source": [
    "# \n",
    "Que2.-\n",
    "In this dataset you have to predict that whether we have to give ATTORNEY to the clients or not (0=Yes, 1=No) based on below factors.\n",
    "CLMAGE - Age of Client\n",
    "CLMSEX - Sex of client (0=Male, 1= Female)\n",
    "SEATBELT - Whether client has Seatbelt or not (0=Yes, 1=No)\n",
    "CLMINSUR - Whether Client give Insurance or not (0=Yes, 1=No)\n",
    "LOSS - Loss that client faced\n",
    "\n",
    "Prepare model by using Decision Tree, Random Forest & Calculate Accuracy by confusion matrix, Calculate accuracy score, precision score, recall score, f1 score.\n",
    "\n",
    "Dataset : Claimants.csv"
   ]
  },
  {
   "cell_type": "markdown",
   "id": "c5042d5e-4f1b-418b-966e-a7455fb6dafd",
   "metadata": {},
   "source": [
    "# import libraries "
   ]
  },
  {
   "cell_type": "code",
   "execution_count": 6,
   "id": "02c4369b-d690-4b91-b243-4835f885388f",
   "metadata": {},
   "outputs": [],
   "source": [
    "import numpy as np\n",
    "import pandas as pd \n",
    "import matplotlib.pyplot as plt\n",
    "import seaborn as sns "
   ]
  },
  {
   "cell_type": "markdown",
   "id": "aebefc55-a89b-4fa0-a337-4574bae79627",
   "metadata": {},
   "source": [
    "# load the data"
   ]
  },
  {
   "cell_type": "code",
   "execution_count": 7,
   "id": "47b6c735-7cde-4f02-8d52-f6cc5df844cd",
   "metadata": {},
   "outputs": [
    {
     "data": {
      "text/html": [
       "<div>\n",
       "<style scoped>\n",
       "    .dataframe tbody tr th:only-of-type {\n",
       "        vertical-align: middle;\n",
       "    }\n",
       "\n",
       "    .dataframe tbody tr th {\n",
       "        vertical-align: top;\n",
       "    }\n",
       "\n",
       "    .dataframe thead th {\n",
       "        text-align: right;\n",
       "    }\n",
       "</style>\n",
       "<table border=\"1\" class=\"dataframe\">\n",
       "  <thead>\n",
       "    <tr style=\"text-align: right;\">\n",
       "      <th></th>\n",
       "      <th>ATTORNEY</th>\n",
       "      <th>CLMSEX</th>\n",
       "      <th>CLMINSUR</th>\n",
       "      <th>SEATBELT</th>\n",
       "      <th>CLMAGE</th>\n",
       "      <th>LOSS</th>\n",
       "    </tr>\n",
       "  </thead>\n",
       "  <tbody>\n",
       "    <tr>\n",
       "      <th>0</th>\n",
       "      <td>0</td>\n",
       "      <td>0.0</td>\n",
       "      <td>1.0</td>\n",
       "      <td>0.0</td>\n",
       "      <td>50.0</td>\n",
       "      <td>34.940</td>\n",
       "    </tr>\n",
       "    <tr>\n",
       "      <th>1</th>\n",
       "      <td>1</td>\n",
       "      <td>1.0</td>\n",
       "      <td>0.0</td>\n",
       "      <td>0.0</td>\n",
       "      <td>18.0</td>\n",
       "      <td>0.891</td>\n",
       "    </tr>\n",
       "    <tr>\n",
       "      <th>2</th>\n",
       "      <td>1</td>\n",
       "      <td>0.0</td>\n",
       "      <td>1.0</td>\n",
       "      <td>0.0</td>\n",
       "      <td>5.0</td>\n",
       "      <td>0.330</td>\n",
       "    </tr>\n",
       "    <tr>\n",
       "      <th>3</th>\n",
       "      <td>0</td>\n",
       "      <td>0.0</td>\n",
       "      <td>1.0</td>\n",
       "      <td>1.0</td>\n",
       "      <td>31.0</td>\n",
       "      <td>0.037</td>\n",
       "    </tr>\n",
       "    <tr>\n",
       "      <th>4</th>\n",
       "      <td>1</td>\n",
       "      <td>0.0</td>\n",
       "      <td>1.0</td>\n",
       "      <td>0.0</td>\n",
       "      <td>30.0</td>\n",
       "      <td>0.038</td>\n",
       "    </tr>\n",
       "    <tr>\n",
       "      <th>...</th>\n",
       "      <td>...</td>\n",
       "      <td>...</td>\n",
       "      <td>...</td>\n",
       "      <td>...</td>\n",
       "      <td>...</td>\n",
       "      <td>...</td>\n",
       "    </tr>\n",
       "    <tr>\n",
       "      <th>1335</th>\n",
       "      <td>1</td>\n",
       "      <td>0.0</td>\n",
       "      <td>1.0</td>\n",
       "      <td>0.0</td>\n",
       "      <td>NaN</td>\n",
       "      <td>0.576</td>\n",
       "    </tr>\n",
       "    <tr>\n",
       "      <th>1336</th>\n",
       "      <td>0</td>\n",
       "      <td>1.0</td>\n",
       "      <td>1.0</td>\n",
       "      <td>0.0</td>\n",
       "      <td>46.0</td>\n",
       "      <td>3.705</td>\n",
       "    </tr>\n",
       "    <tr>\n",
       "      <th>1337</th>\n",
       "      <td>1</td>\n",
       "      <td>1.0</td>\n",
       "      <td>1.0</td>\n",
       "      <td>0.0</td>\n",
       "      <td>39.0</td>\n",
       "      <td>0.099</td>\n",
       "    </tr>\n",
       "    <tr>\n",
       "      <th>1338</th>\n",
       "      <td>0</td>\n",
       "      <td>1.0</td>\n",
       "      <td>0.0</td>\n",
       "      <td>0.0</td>\n",
       "      <td>8.0</td>\n",
       "      <td>3.177</td>\n",
       "    </tr>\n",
       "    <tr>\n",
       "      <th>1339</th>\n",
       "      <td>1</td>\n",
       "      <td>1.0</td>\n",
       "      <td>1.0</td>\n",
       "      <td>0.0</td>\n",
       "      <td>30.0</td>\n",
       "      <td>0.688</td>\n",
       "    </tr>\n",
       "  </tbody>\n",
       "</table>\n",
       "<p>1340 rows × 6 columns</p>\n",
       "</div>"
      ],
      "text/plain": [
       "      ATTORNEY  CLMSEX  CLMINSUR  SEATBELT  CLMAGE    LOSS\n",
       "0            0     0.0       1.0       0.0    50.0  34.940\n",
       "1            1     1.0       0.0       0.0    18.0   0.891\n",
       "2            1     0.0       1.0       0.0     5.0   0.330\n",
       "3            0     0.0       1.0       1.0    31.0   0.037\n",
       "4            1     0.0       1.0       0.0    30.0   0.038\n",
       "...        ...     ...       ...       ...     ...     ...\n",
       "1335         1     0.0       1.0       0.0     NaN   0.576\n",
       "1336         0     1.0       1.0       0.0    46.0   3.705\n",
       "1337         1     1.0       1.0       0.0    39.0   0.099\n",
       "1338         0     1.0       0.0       0.0     8.0   3.177\n",
       "1339         1     1.0       1.0       0.0    30.0   0.688\n",
       "\n",
       "[1340 rows x 6 columns]"
      ]
     },
     "execution_count": 7,
     "metadata": {},
     "output_type": "execute_result"
    }
   ],
   "source": [
    "df = pd.read_csv('./claimants.csv')\n",
    "df\n"
   ]
  },
  {
   "cell_type": "markdown",
   "id": "4a81b242-000f-490c-8785-24cc1977664c",
   "metadata": {},
   "source": [
    "# EDA"
   ]
  },
  {
   "cell_type": "code",
   "execution_count": 8,
   "id": "f0d9138d-f9cd-448b-a69e-fc8b01895898",
   "metadata": {},
   "outputs": [
    {
     "data": {
      "text/html": [
       "<div>\n",
       "<style scoped>\n",
       "    .dataframe tbody tr th:only-of-type {\n",
       "        vertical-align: middle;\n",
       "    }\n",
       "\n",
       "    .dataframe tbody tr th {\n",
       "        vertical-align: top;\n",
       "    }\n",
       "\n",
       "    .dataframe thead th {\n",
       "        text-align: right;\n",
       "    }\n",
       "</style>\n",
       "<table border=\"1\" class=\"dataframe\">\n",
       "  <thead>\n",
       "    <tr style=\"text-align: right;\">\n",
       "      <th></th>\n",
       "      <th>ATTORNEY</th>\n",
       "      <th>CLMSEX</th>\n",
       "      <th>CLMINSUR</th>\n",
       "      <th>SEATBELT</th>\n",
       "      <th>CLMAGE</th>\n",
       "      <th>LOSS</th>\n",
       "    </tr>\n",
       "  </thead>\n",
       "  <tbody>\n",
       "    <tr>\n",
       "      <th>0</th>\n",
       "      <td>0</td>\n",
       "      <td>0.0</td>\n",
       "      <td>1.0</td>\n",
       "      <td>0.0</td>\n",
       "      <td>50.0</td>\n",
       "      <td>34.940</td>\n",
       "    </tr>\n",
       "    <tr>\n",
       "      <th>1</th>\n",
       "      <td>1</td>\n",
       "      <td>1.0</td>\n",
       "      <td>0.0</td>\n",
       "      <td>0.0</td>\n",
       "      <td>18.0</td>\n",
       "      <td>0.891</td>\n",
       "    </tr>\n",
       "    <tr>\n",
       "      <th>2</th>\n",
       "      <td>1</td>\n",
       "      <td>0.0</td>\n",
       "      <td>1.0</td>\n",
       "      <td>0.0</td>\n",
       "      <td>5.0</td>\n",
       "      <td>0.330</td>\n",
       "    </tr>\n",
       "    <tr>\n",
       "      <th>3</th>\n",
       "      <td>0</td>\n",
       "      <td>0.0</td>\n",
       "      <td>1.0</td>\n",
       "      <td>1.0</td>\n",
       "      <td>31.0</td>\n",
       "      <td>0.037</td>\n",
       "    </tr>\n",
       "    <tr>\n",
       "      <th>4</th>\n",
       "      <td>1</td>\n",
       "      <td>0.0</td>\n",
       "      <td>1.0</td>\n",
       "      <td>0.0</td>\n",
       "      <td>30.0</td>\n",
       "      <td>0.038</td>\n",
       "    </tr>\n",
       "  </tbody>\n",
       "</table>\n",
       "</div>"
      ],
      "text/plain": [
       "   ATTORNEY  CLMSEX  CLMINSUR  SEATBELT  CLMAGE    LOSS\n",
       "0         0     0.0       1.0       0.0    50.0  34.940\n",
       "1         1     1.0       0.0       0.0    18.0   0.891\n",
       "2         1     0.0       1.0       0.0     5.0   0.330\n",
       "3         0     0.0       1.0       1.0    31.0   0.037\n",
       "4         1     0.0       1.0       0.0    30.0   0.038"
      ]
     },
     "execution_count": 8,
     "metadata": {},
     "output_type": "execute_result"
    }
   ],
   "source": [
    "df.head()"
   ]
  },
  {
   "cell_type": "code",
   "execution_count": 9,
   "id": "eef5619c-897f-4c8c-b7b5-26efd84105f1",
   "metadata": {},
   "outputs": [
    {
     "name": "stdout",
     "output_type": "stream",
     "text": [
      "<class 'pandas.core.frame.DataFrame'>\n",
      "RangeIndex: 1340 entries, 0 to 1339\n",
      "Data columns (total 6 columns):\n",
      " #   Column    Non-Null Count  Dtype  \n",
      "---  ------    --------------  -----  \n",
      " 0   ATTORNEY  1340 non-null   int64  \n",
      " 1   CLMSEX    1328 non-null   float64\n",
      " 2   CLMINSUR  1299 non-null   float64\n",
      " 3   SEATBELT  1292 non-null   float64\n",
      " 4   CLMAGE    1151 non-null   float64\n",
      " 5   LOSS      1340 non-null   float64\n",
      "dtypes: float64(5), int64(1)\n",
      "memory usage: 62.9 KB\n"
     ]
    }
   ],
   "source": [
    "df.info()"
   ]
  },
  {
   "cell_type": "code",
   "execution_count": 12,
   "id": "eb6b19af-b98e-4b49-941c-34ea6d4504f0",
   "metadata": {},
   "outputs": [
    {
     "data": {
      "text/plain": [
       "(1340, 6)"
      ]
     },
     "execution_count": 12,
     "metadata": {},
     "output_type": "execute_result"
    }
   ],
   "source": [
    "df.shape"
   ]
  },
  {
   "cell_type": "code",
   "execution_count": 16,
   "id": "cae5a2f6-7407-4ff7-96b9-779eb6b725b7",
   "metadata": {},
   "outputs": [],
   "source": [
    "# fill the na values \n",
    "\n",
    "df['CLMSEX'] = df['CLMSEX'].fillna(df['CLMSEX'].mode()[0])\n",
    "\n",
    "df['CLMINSUR'] = df['CLMINSUR'].fillna(df['CLMINSUR'].mode()[0])\n",
    "df['SEATBELT'] = df['SEATBELT'].fillna(df['SEATBELT'].mode()[0])\n",
    "df['CLMAGE'] = df['CLMAGE'].fillna(df['CLMAGE'].mean())\n",
    "df['LOSS'] = df['LOSS'].fillna(df['LOSS'].median())\n"
   ]
  },
  {
   "cell_type": "code",
   "execution_count": 17,
   "id": "a5e09cb2-e031-4787-9e38-2ea4883b37b0",
   "metadata": {},
   "outputs": [
    {
     "data": {
      "text/plain": [
       "ATTORNEY    0\n",
       "CLMSEX      0\n",
       "CLMINSUR    0\n",
       "SEATBELT    0\n",
       "CLMAGE      0\n",
       "LOSS        0\n",
       "dtype: int64"
      ]
     },
     "execution_count": 17,
     "metadata": {},
     "output_type": "execute_result"
    }
   ],
   "source": [
    "df.isna().sum()"
   ]
  },
  {
   "cell_type": "code",
   "execution_count": 18,
   "id": "16e0c3b5-8090-48c8-9837-d79c204690ec",
   "metadata": {},
   "outputs": [
    {
     "data": {
      "text/html": [
       "<div>\n",
       "<style scoped>\n",
       "    .dataframe tbody tr th:only-of-type {\n",
       "        vertical-align: middle;\n",
       "    }\n",
       "\n",
       "    .dataframe tbody tr th {\n",
       "        vertical-align: top;\n",
       "    }\n",
       "\n",
       "    .dataframe thead th {\n",
       "        text-align: right;\n",
       "    }\n",
       "</style>\n",
       "<table border=\"1\" class=\"dataframe\">\n",
       "  <thead>\n",
       "    <tr style=\"text-align: right;\">\n",
       "      <th></th>\n",
       "      <th>ATTORNEY</th>\n",
       "      <th>CLMSEX</th>\n",
       "      <th>CLMINSUR</th>\n",
       "      <th>SEATBELT</th>\n",
       "      <th>CLMAGE</th>\n",
       "      <th>LOSS</th>\n",
       "    </tr>\n",
       "  </thead>\n",
       "  <tbody>\n",
       "    <tr>\n",
       "      <th>ATTORNEY</th>\n",
       "      <td>1.000000</td>\n",
       "      <td>0.076564</td>\n",
       "      <td>0.076631</td>\n",
       "      <td>-0.055848</td>\n",
       "      <td>0.009886</td>\n",
       "      <td>-0.219715</td>\n",
       "    </tr>\n",
       "    <tr>\n",
       "      <th>CLMSEX</th>\n",
       "      <td>0.076564</td>\n",
       "      <td>1.000000</td>\n",
       "      <td>0.065976</td>\n",
       "      <td>-0.016327</td>\n",
       "      <td>-0.022444</td>\n",
       "      <td>-0.028412</td>\n",
       "    </tr>\n",
       "    <tr>\n",
       "      <th>CLMINSUR</th>\n",
       "      <td>0.076631</td>\n",
       "      <td>0.065976</td>\n",
       "      <td>1.000000</td>\n",
       "      <td>0.019953</td>\n",
       "      <td>0.044706</td>\n",
       "      <td>0.004641</td>\n",
       "    </tr>\n",
       "    <tr>\n",
       "      <th>SEATBELT</th>\n",
       "      <td>-0.055848</td>\n",
       "      <td>-0.016327</td>\n",
       "      <td>0.019953</td>\n",
       "      <td>1.000000</td>\n",
       "      <td>-0.025379</td>\n",
       "      <td>0.111879</td>\n",
       "    </tr>\n",
       "    <tr>\n",
       "      <th>CLMAGE</th>\n",
       "      <td>0.009886</td>\n",
       "      <td>-0.022444</td>\n",
       "      <td>0.044706</td>\n",
       "      <td>-0.025379</td>\n",
       "      <td>1.000000</td>\n",
       "      <td>0.057641</td>\n",
       "    </tr>\n",
       "    <tr>\n",
       "      <th>LOSS</th>\n",
       "      <td>-0.219715</td>\n",
       "      <td>-0.028412</td>\n",
       "      <td>0.004641</td>\n",
       "      <td>0.111879</td>\n",
       "      <td>0.057641</td>\n",
       "      <td>1.000000</td>\n",
       "    </tr>\n",
       "  </tbody>\n",
       "</table>\n",
       "</div>"
      ],
      "text/plain": [
       "          ATTORNEY    CLMSEX  CLMINSUR  SEATBELT    CLMAGE      LOSS\n",
       "ATTORNEY  1.000000  0.076564  0.076631 -0.055848  0.009886 -0.219715\n",
       "CLMSEX    0.076564  1.000000  0.065976 -0.016327 -0.022444 -0.028412\n",
       "CLMINSUR  0.076631  0.065976  1.000000  0.019953  0.044706  0.004641\n",
       "SEATBELT -0.055848 -0.016327  0.019953  1.000000 -0.025379  0.111879\n",
       "CLMAGE    0.009886 -0.022444  0.044706 -0.025379  1.000000  0.057641\n",
       "LOSS     -0.219715 -0.028412  0.004641  0.111879  0.057641  1.000000"
      ]
     },
     "execution_count": 18,
     "metadata": {},
     "output_type": "execute_result"
    }
   ],
   "source": [
    "df.corr()"
   ]
  },
  {
   "cell_type": "markdown",
   "id": "e02f4ec6-b3be-4f4f-9099-fc918d7332d9",
   "metadata": {},
   "source": [
    "### split the data into x and y"
   ]
  },
  {
   "cell_type": "code",
   "execution_count": 20,
   "id": "668d1570-939d-46a4-81cf-2ebaad9ea410",
   "metadata": {},
   "outputs": [],
   "source": [
    "x = df[['CLMSEX' , 'CLMINSUR', 'SEATBELT' ,'CLMAGE' , 'LOSS']]\n",
    "y = df['ATTORNEY']"
   ]
  },
  {
   "cell_type": "markdown",
   "id": "b20941ec-b44f-4b5e-97be-fd8cfe9ed818",
   "metadata": {},
   "source": [
    "## split the data inyo train and test set "
   ]
  },
  {
   "cell_type": "code",
   "execution_count": 21,
   "id": "adfd9e81-e4bc-40f1-8fd5-89a6d02fbabe",
   "metadata": {},
   "outputs": [],
   "source": [
    "from sklearn.model_selection import train_test_split\n",
    "x_train , x_test , y_train , y_test = train_test_split(x,y , random_state=123456)\n"
   ]
  },
  {
   "cell_type": "markdown",
   "id": "c0bd57ff-2744-46eb-9123-022b39d11ff7",
   "metadata": {},
   "source": [
    "## train the models \n"
   ]
  },
  {
   "cell_type": "code",
   "execution_count": 22,
   "id": "3fd77a4e-065d-4f79-be1c-7a0575686681",
   "metadata": {},
   "outputs": [],
   "source": [
    "\n",
    "def train_model_dt():\n",
    "    from sklearn.tree import DecisionTreeClassifier\n",
    "    model = DecisionTreeClassifier(max_depth=3)\n",
    "    model.fit(x_train , y_train)\n",
    "    return model "
   ]
  },
  {
   "cell_type": "code",
   "execution_count": 23,
   "id": "f4f29b14-fabe-413f-877a-0965023973ce",
   "metadata": {},
   "outputs": [],
   "source": [
    "def train_random_forest():\n",
    "    from sklearn.ensemble import RandomForestClassifier\n",
    "\n",
    "    model = RandomForestClassifier(max_depth=3)\n",
    "    model.fit(x_train , y_train)\n",
    "    return model"
   ]
  },
  {
   "cell_type": "markdown",
   "id": "e875d3e6-fba7-4bac-9c7a-9ae9af3bd49e",
   "metadata": {},
   "source": [
    "## evaluate the model"
   ]
  },
  {
   "cell_type": "code",
   "execution_count": 24,
   "id": "1d263d5e-6e5b-4be6-b259-d02cf721fe55",
   "metadata": {},
   "outputs": [],
   "source": [
    "def evaluate_model(model , model_name):\n",
    "    from sklearn.metrics import confusion_matrix, accuracy_score , precision_score ,recall_score , f1_score\n",
    "\n",
    "    y_pred = model.predict(x_test)\n",
    "    y_true = y_test\n",
    "\n",
    "    # get the confusion matrix\n",
    "    cm = confusion_matrix(y_true, y_pred)\n",
    "    print(f\"confusion matrix: \")\n",
    "    print(cm)\n",
    "\n",
    "    accuracy = accuracy_score(y_true , y_pred)\n",
    "    precision = precision_score(y_true , y_pred)\n",
    "    recall = recall_score(y_true, y_pred)\n",
    "    f1 =f1_score(y_true, y_pred)\n",
    "\n",
    "    return model_name ,cm,  accuracy , precision , recall ,f1"
   ]
  },
  {
   "cell_type": "code",
   "execution_count": 25,
   "id": "21d12cd3-bdcf-45ee-9e75-4b53d2a10a73",
   "metadata": {},
   "outputs": [],
   "source": [
    "models = [\n",
    "    \n",
    "    (train_model_dt(), 'Decision Tree', (0, 0)),\n",
    "    (train_random_forest(), 'Random Forest', (0, 1))\n",
    "]"
   ]
  },
  {
   "cell_type": "code",
   "execution_count": 26,
   "id": "e893d451-bd10-4b48-9508-078033a45a6d",
   "metadata": {},
   "outputs": [
    {
     "name": "stdout",
     "output_type": "stream",
     "text": [
      "confusion matrix: \n",
      "[[148  33]\n",
      " [ 68  86]]\n",
      "confusion matrix: \n",
      "[[138  43]\n",
      " [ 44 110]]\n"
     ]
    }
   ],
   "source": [
    "results = []\n",
    "for (model, model_name, _) in models:\n",
    "    results.append(evaluate_model(model, model_name))"
   ]
  },
  {
   "cell_type": "code",
   "execution_count": 27,
   "id": "24424017-dddc-4bbe-baee-7da378cc689b",
   "metadata": {},
   "outputs": [
    {
     "data": {
      "text/html": [
       "<div>\n",
       "<style scoped>\n",
       "    .dataframe tbody tr th:only-of-type {\n",
       "        vertical-align: middle;\n",
       "    }\n",
       "\n",
       "    .dataframe tbody tr th {\n",
       "        vertical-align: top;\n",
       "    }\n",
       "\n",
       "    .dataframe thead th {\n",
       "        text-align: right;\n",
       "    }\n",
       "</style>\n",
       "<table border=\"1\" class=\"dataframe\">\n",
       "  <thead>\n",
       "    <tr style=\"text-align: right;\">\n",
       "      <th></th>\n",
       "      <th>Algorithm</th>\n",
       "      <th>confusion metrix</th>\n",
       "      <th>Accuracy</th>\n",
       "      <th>Precision</th>\n",
       "      <th>Recall</th>\n",
       "      <th>F1 Score</th>\n",
       "    </tr>\n",
       "  </thead>\n",
       "  <tbody>\n",
       "    <tr>\n",
       "      <th>0</th>\n",
       "      <td>Decision Tree</td>\n",
       "      <td>[[148, 33], [68, 86]]</td>\n",
       "      <td>0.698507</td>\n",
       "      <td>0.722689</td>\n",
       "      <td>0.558442</td>\n",
       "      <td>0.630037</td>\n",
       "    </tr>\n",
       "    <tr>\n",
       "      <th>1</th>\n",
       "      <td>Random Forest</td>\n",
       "      <td>[[138, 43], [44, 110]]</td>\n",
       "      <td>0.740299</td>\n",
       "      <td>0.718954</td>\n",
       "      <td>0.714286</td>\n",
       "      <td>0.716612</td>\n",
       "    </tr>\n",
       "  </tbody>\n",
       "</table>\n",
       "</div>"
      ],
      "text/plain": [
       "       Algorithm        confusion metrix  Accuracy  Precision    Recall  \\\n",
       "0  Decision Tree   [[148, 33], [68, 86]]  0.698507   0.722689  0.558442   \n",
       "1  Random Forest  [[138, 43], [44, 110]]  0.740299   0.718954  0.714286   \n",
       "\n",
       "   F1 Score  \n",
       "0  0.630037  \n",
       "1  0.716612  "
      ]
     },
     "execution_count": 27,
     "metadata": {},
     "output_type": "execute_result"
    }
   ],
   "source": [
    "result_df = pd.DataFrame(results, columns=['Algorithm','confusion metrix', 'Accuracy', 'Precision', 'Recall', 'F1 Score'])\n",
    "result_df"
   ]
  },
  {
   "cell_type": "code",
   "execution_count": 28,
   "id": "b5fbea92-079d-4bad-91f5-719fa3f4558a",
   "metadata": {},
   "outputs": [
    {
     "data": {
      "image/png": "[encoded data removed]",
      "text/plain": [
       "<Figure size 640x480 with 1 Axes>"
      ]
     },
     "metadata": {},
     "output_type": "display_data"
    }
   ],
   "source": [
    "from sklearn.tree import plot_tree\n",
    "result = plot_tree(models[0][0])"
   ]
  },
  {
   "cell_type": "code",
   "execution_count": null,
   "id": "a8bdd425-c94e-4c44-a7d8-88b5fc57daec",
   "metadata": {},
   "outputs": [],
   "source": []
  }
 ],
 "metadata": {
  "kernelspec": {
   "display_name": "Python 3 (ipykernel)",
   "language": "python",
   "name": "python3"
  },
  "language_info": {
   "codemirror_mode": {
    "name": "ipython",
    "version": 3
   },
   "file_extension": ".py",
   "mimetype": "text/x-python",
   "name": "python",
   "nbconvert_exporter": "python",
   "pygments_lexer": "ipython3",
   "version": "3.10.12"
  }
 },
 "nbformat": 4,
 "nbformat_minor": 5
}
