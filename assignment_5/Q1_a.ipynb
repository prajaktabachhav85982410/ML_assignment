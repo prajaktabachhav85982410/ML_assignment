{
 "cells": [
  {
   "cell_type": "markdown",
   "id": "2ac8112b-4088-4e72-878e-e8f515473d8e",
   "metadata": {},
   "source": [
    "# Association Rules Mining"
   ]
  },
  {
   "cell_type": "markdown",
   "id": "8af68e30-774d-4c91-adf3-0fbcc70265af",
   "metadata": {},
   "source": [
    "## using Apriori algorithm"
   ]
  },
  {
   "cell_type": "markdown",
   "id": "375b0135-fcfc-4a59-a8c1-967e6769d684",
   "metadata": {},
   "source": [
    "### import required packages"
   ]
  },
  {
   "cell_type": "code",
   "execution_count": 1,
   "id": "a66d6314-949f-45bc-9dd3-0a5b063153f8",
   "metadata": {},
   "outputs": [],
   "source": [
    "import numpy as np \n",
    "import pandas as pd \n",
    "import matplotlib.pyplot as plt\n",
    "import seaborn as sns "
   ]
  },
  {
   "cell_type": "markdown",
   "id": "4ee039e7-ea98-4a9c-b9a2-07af8e47a388",
   "metadata": {},
   "source": [
    "### load the data\n"
   ]
  },
  {
   "cell_type": "code",
   "execution_count": 4,
   "id": "441c8fb2-1e94-4977-8bc5-ef0d5ad98089",
   "metadata": {},
   "outputs": [
    {
     "name": "stdout",
     "output_type": "stream",
     "text": [
      "      ChildBks  YouthBks  CookBks  DoItYBks  RefBks  ArtBks  GeogBks  \\\n",
      "0            0         1        0         1       0       0        1   \n",
      "1            1         0        0         0       0       0        0   \n",
      "2            0         0        0         0       0       0        0   \n",
      "3            1         1        1         0       1       0        1   \n",
      "4            0         0        1         0       0       0        1   \n",
      "...        ...       ...      ...       ...     ...     ...      ...   \n",
      "1995         0         0        1         0       0       1        1   \n",
      "1996         0         0        0         0       0       0        0   \n",
      "1997         0         0        0         0       0       0        0   \n",
      "1998         0         0        1         0       0       0        0   \n",
      "1999         0         0        0         0       0       0        0   \n",
      "\n",
      "      ItalCook  ItalAtlas  ItalArt  Florence  \n",
      "0            0          0        0         0  \n",
      "1            0          0        0         0  \n",
      "2            0          0        0         0  \n",
      "3            0          0        0         0  \n",
      "4            0          0        0         0  \n",
      "...        ...        ...      ...       ...  \n",
      "1995         1          0        1         1  \n",
      "1996         0          0        0         0  \n",
      "1997         0          0        0         0  \n",
      "1998         0          0        0         0  \n",
      "1999         0          0        0         0  \n",
      "\n",
      "[2000 rows x 11 columns]\n"
     ]
    }
   ],
   "source": [
    "transactions = pd.read_csv('./book.csv')\n",
    "print(transactions)"
   ]
  },
  {
   "cell_type": "markdown",
   "id": "5ec55cd0-065a-4b16-ade2-1fa1c9c095d5",
   "metadata": {},
   "source": [
    "### build the rules`"
   ]
  },
  {
   "cell_type": "code",
   "execution_count": 5,
   "id": "c6637123-c526-4b08-9aa2-8f81587d39f9",
   "metadata": {},
   "outputs": [],
   "source": [
    "from apyori import apriori \n",
    "\n",
    "rules = list(apriori(transactions , support =0.5 , confidence = 0.75))"
   ]
  },
  {
   "cell_type": "code",
   "execution_count": 6,
   "id": "207cb93a-16ed-477c-a466-616f2f6c5858",
   "metadata": {},
   "outputs": [],
   "source": [
    "final_rules = []\n",
    "for rule in rules :\n",
    "        # get those rules for which the support is greater than 50%\n",
    "    if rule.support >= 0.5:\n",
    "        final_rules.append(rule.items)\n",
    "    "
   ]
  },
  {
   "cell_type": "code",
   "execution_count": 7,
   "id": "f3f5bb22-9883-4808-9807-523256047d03",
   "metadata": {},
   "outputs": [
    {
     "name": "stdout",
     "output_type": "stream",
     "text": [
      "frozenset({'B'})\n",
      "frozenset({'k'})\n",
      "frozenset({'o'})\n",
      "frozenset({'s'})\n",
      "frozenset({'t'})\n",
      "frozenset({'k', 'B'})\n",
      "frozenset({'s', 'B'})\n",
      "frozenset({'s', 'k'})\n",
      "frozenset({'s', 'k', 'B'})\n"
     ]
    }
   ],
   "source": [
    "for rule in final_rules:\n",
    "    print(rule)"
   ]
  },
  {
   "cell_type": "markdown",
   "id": "cc2d0d33-bae3-4ad9-a617-4dc7c8d4acd3",
   "metadata": {},
   "source": [
    "### pre-process the dataset"
   ]
  },
  {
   "cell_type": "markdown",
   "id": "6e9b53ff-8a85-47a1-8bc4-b2d5e06c8228",
   "metadata": {},
   "source": [
    "#### here , we haven't performed these below steps as we have already data given in 1 and 0 so \n",
    "if data given in qualitative categorical form , then encode and fit it into dataframe ."
   ]
  },
  {
   "cell_type": "code",
   "execution_count": 8,
   "id": "fcf143f4-0e99-4887-8fa6-49741037e0b1",
   "metadata": {},
   "outputs": [],
   "source": [
    "# from mlxtend.preprocessing import TransactionEncoder\n",
    "\n",
    "# # create an encoder\n",
    "# encoder = TransactionEncoder()\n",
    "\n",
    "# # fit the transactions\n",
    "# encoder_transformed_data = encoder.fit(transactions).transform(transactions)\n",
    "\n",
    "\n",
    "# # create the dataframe using pd\n",
    "# df = pd.DataFrame(encoder_transformed_data, columns=encoder.columns_)\n"
   ]
  },
  {
   "cell_type": "markdown",
   "id": "3fd725a2-a541-46ed-8fe6-4bb91d1b02bd",
   "metadata": {},
   "source": [
    "### mine the rules "
   ]
  },
  {
   "cell_type": "code",
   "execution_count": 14,
   "id": "3698b23c-a84e-46c4-9158-06245c4904ea",
   "metadata": {},
   "outputs": [
    {
     "name": "stderr",
     "output_type": "stream",
     "text": [
      "/home/prajakta/.local/lib/python3.10/site-packages/mlxtend/frequent_patterns/fpcommon.py:109: DeprecationWarning: DataFrames with non-bool types result in worse computationalperformance and their support might be discontinued in the future.Please use a DataFrame with bool type\n",
      "  warnings.warn(\n"
     ]
    },
    {
     "data": {
      "text/html": [
       "<div>\n",
       "<style scoped>\n",
       "    .dataframe tbody tr th:only-of-type {\n",
       "        vertical-align: middle;\n",
       "    }\n",
       "\n",
       "    .dataframe tbody tr th {\n",
       "        vertical-align: top;\n",
       "    }\n",
       "\n",
       "    .dataframe thead th {\n",
       "        text-align: right;\n",
       "    }\n",
       "</style>\n",
       "<table border=\"1\" class=\"dataframe\">\n",
       "  <thead>\n",
       "    <tr style=\"text-align: right;\">\n",
       "      <th></th>\n",
       "      <th>support</th>\n",
       "      <th>itemsets</th>\n",
       "    </tr>\n",
       "  </thead>\n",
       "  <tbody>\n",
       "    <tr>\n",
       "      <th>0</th>\n",
       "      <td>0.4230</td>\n",
       "      <td>(ChildBks)</td>\n",
       "    </tr>\n",
       "    <tr>\n",
       "      <th>1</th>\n",
       "      <td>0.2475</td>\n",
       "      <td>(YouthBks)</td>\n",
       "    </tr>\n",
       "    <tr>\n",
       "      <th>2</th>\n",
       "      <td>0.4310</td>\n",
       "      <td>(CookBks)</td>\n",
       "    </tr>\n",
       "    <tr>\n",
       "      <th>3</th>\n",
       "      <td>0.2820</td>\n",
       "      <td>(DoItYBks)</td>\n",
       "    </tr>\n",
       "    <tr>\n",
       "      <th>4</th>\n",
       "      <td>0.2145</td>\n",
       "      <td>(RefBks)</td>\n",
       "    </tr>\n",
       "    <tr>\n",
       "      <th>5</th>\n",
       "      <td>0.2410</td>\n",
       "      <td>(ArtBks)</td>\n",
       "    </tr>\n",
       "    <tr>\n",
       "      <th>6</th>\n",
       "      <td>0.2760</td>\n",
       "      <td>(GeogBks)</td>\n",
       "    </tr>\n",
       "    <tr>\n",
       "      <th>7</th>\n",
       "      <td>0.1135</td>\n",
       "      <td>(ItalCook)</td>\n",
       "    </tr>\n",
       "    <tr>\n",
       "      <th>8</th>\n",
       "      <td>0.1085</td>\n",
       "      <td>(Florence)</td>\n",
       "    </tr>\n",
       "    <tr>\n",
       "      <th>9</th>\n",
       "      <td>0.1650</td>\n",
       "      <td>(ChildBks, YouthBks)</td>\n",
       "    </tr>\n",
       "    <tr>\n",
       "      <th>10</th>\n",
       "      <td>0.2560</td>\n",
       "      <td>(ChildBks, CookBks)</td>\n",
       "    </tr>\n",
       "    <tr>\n",
       "      <th>11</th>\n",
       "      <td>0.1840</td>\n",
       "      <td>(DoItYBks, ChildBks)</td>\n",
       "    </tr>\n",
       "    <tr>\n",
       "      <th>12</th>\n",
       "      <td>0.1515</td>\n",
       "      <td>(ChildBks, RefBks)</td>\n",
       "    </tr>\n",
       "    <tr>\n",
       "      <th>13</th>\n",
       "      <td>0.1625</td>\n",
       "      <td>(ArtBks, ChildBks)</td>\n",
       "    </tr>\n",
       "    <tr>\n",
       "      <th>14</th>\n",
       "      <td>0.1950</td>\n",
       "      <td>(ChildBks, GeogBks)</td>\n",
       "    </tr>\n",
       "    <tr>\n",
       "      <th>15</th>\n",
       "      <td>0.1620</td>\n",
       "      <td>(YouthBks, CookBks)</td>\n",
       "    </tr>\n",
       "    <tr>\n",
       "      <th>16</th>\n",
       "      <td>0.1155</td>\n",
       "      <td>(DoItYBks, YouthBks)</td>\n",
       "    </tr>\n",
       "    <tr>\n",
       "      <th>17</th>\n",
       "      <td>0.1010</td>\n",
       "      <td>(ArtBks, YouthBks)</td>\n",
       "    </tr>\n",
       "    <tr>\n",
       "      <th>18</th>\n",
       "      <td>0.1205</td>\n",
       "      <td>(YouthBks, GeogBks)</td>\n",
       "    </tr>\n",
       "    <tr>\n",
       "      <th>19</th>\n",
       "      <td>0.1875</td>\n",
       "      <td>(DoItYBks, CookBks)</td>\n",
       "    </tr>\n",
       "    <tr>\n",
       "      <th>20</th>\n",
       "      <td>0.1525</td>\n",
       "      <td>(RefBks, CookBks)</td>\n",
       "    </tr>\n",
       "    <tr>\n",
       "      <th>21</th>\n",
       "      <td>0.1670</td>\n",
       "      <td>(ArtBks, CookBks)</td>\n",
       "    </tr>\n",
       "    <tr>\n",
       "      <th>22</th>\n",
       "      <td>0.1925</td>\n",
       "      <td>(GeogBks, CookBks)</td>\n",
       "    </tr>\n",
       "    <tr>\n",
       "      <th>23</th>\n",
       "      <td>0.1135</td>\n",
       "      <td>(ItalCook, CookBks)</td>\n",
       "    </tr>\n",
       "    <tr>\n",
       "      <th>24</th>\n",
       "      <td>0.1055</td>\n",
       "      <td>(DoItYBks, RefBks)</td>\n",
       "    </tr>\n",
       "    <tr>\n",
       "      <th>25</th>\n",
       "      <td>0.1235</td>\n",
       "      <td>(DoItYBks, ArtBks)</td>\n",
       "    </tr>\n",
       "    <tr>\n",
       "      <th>26</th>\n",
       "      <td>0.1325</td>\n",
       "      <td>(DoItYBks, GeogBks)</td>\n",
       "    </tr>\n",
       "    <tr>\n",
       "      <th>27</th>\n",
       "      <td>0.1105</td>\n",
       "      <td>(RefBks, GeogBks)</td>\n",
       "    </tr>\n",
       "    <tr>\n",
       "      <th>28</th>\n",
       "      <td>0.1275</td>\n",
       "      <td>(ArtBks, GeogBks)</td>\n",
       "    </tr>\n",
       "    <tr>\n",
       "      <th>29</th>\n",
       "      <td>0.1290</td>\n",
       "      <td>(ChildBks, YouthBks, CookBks)</td>\n",
       "    </tr>\n",
       "    <tr>\n",
       "      <th>30</th>\n",
       "      <td>0.1460</td>\n",
       "      <td>(DoItYBks, ChildBks, CookBks)</td>\n",
       "    </tr>\n",
       "    <tr>\n",
       "      <th>31</th>\n",
       "      <td>0.1225</td>\n",
       "      <td>(ChildBks, RefBks, CookBks)</td>\n",
       "    </tr>\n",
       "    <tr>\n",
       "      <th>32</th>\n",
       "      <td>0.1265</td>\n",
       "      <td>(ArtBks, ChildBks, CookBks)</td>\n",
       "    </tr>\n",
       "    <tr>\n",
       "      <th>33</th>\n",
       "      <td>0.1495</td>\n",
       "      <td>(ChildBks, GeogBks, CookBks)</td>\n",
       "    </tr>\n",
       "    <tr>\n",
       "      <th>34</th>\n",
       "      <td>0.1045</td>\n",
       "      <td>(DoItYBks, ChildBks, GeogBks)</td>\n",
       "    </tr>\n",
       "    <tr>\n",
       "      <th>35</th>\n",
       "      <td>0.1020</td>\n",
       "      <td>(ArtBks, ChildBks, GeogBks)</td>\n",
       "    </tr>\n",
       "    <tr>\n",
       "      <th>36</th>\n",
       "      <td>0.1015</td>\n",
       "      <td>(DoItYBks, ArtBks, CookBks)</td>\n",
       "    </tr>\n",
       "    <tr>\n",
       "      <th>37</th>\n",
       "      <td>0.1085</td>\n",
       "      <td>(DoItYBks, GeogBks, CookBks)</td>\n",
       "    </tr>\n",
       "    <tr>\n",
       "      <th>38</th>\n",
       "      <td>0.1035</td>\n",
       "      <td>(ArtBks, GeogBks, CookBks)</td>\n",
       "    </tr>\n",
       "  </tbody>\n",
       "</table>\n",
       "</div>"
      ],
      "text/plain": [
       "    support                       itemsets\n",
       "0    0.4230                     (ChildBks)\n",
       "1    0.2475                     (YouthBks)\n",
       "2    0.4310                      (CookBks)\n",
       "3    0.2820                     (DoItYBks)\n",
       "4    0.2145                       (RefBks)\n",
       "5    0.2410                       (ArtBks)\n",
       "6    0.2760                      (GeogBks)\n",
       "7    0.1135                     (ItalCook)\n",
       "8    0.1085                     (Florence)\n",
       "9    0.1650           (ChildBks, YouthBks)\n",
       "10   0.2560            (ChildBks, CookBks)\n",
       "11   0.1840           (DoItYBks, ChildBks)\n",
       "12   0.1515             (ChildBks, RefBks)\n",
       "13   0.1625             (ArtBks, ChildBks)\n",
       "14   0.1950            (ChildBks, GeogBks)\n",
       "15   0.1620            (YouthBks, CookBks)\n",
       "16   0.1155           (DoItYBks, YouthBks)\n",
       "17   0.1010             (ArtBks, YouthBks)\n",
       "18   0.1205            (YouthBks, GeogBks)\n",
       "19   0.1875            (DoItYBks, CookBks)\n",
       "20   0.1525              (RefBks, CookBks)\n",
       "21   0.1670              (ArtBks, CookBks)\n",
       "22   0.1925             (GeogBks, CookBks)\n",
       "23   0.1135            (ItalCook, CookBks)\n",
       "24   0.1055             (DoItYBks, RefBks)\n",
       "25   0.1235             (DoItYBks, ArtBks)\n",
       "26   0.1325            (DoItYBks, GeogBks)\n",
       "27   0.1105              (RefBks, GeogBks)\n",
       "28   0.1275              (ArtBks, GeogBks)\n",
       "29   0.1290  (ChildBks, YouthBks, CookBks)\n",
       "30   0.1460  (DoItYBks, ChildBks, CookBks)\n",
       "31   0.1225    (ChildBks, RefBks, CookBks)\n",
       "32   0.1265    (ArtBks, ChildBks, CookBks)\n",
       "33   0.1495   (ChildBks, GeogBks, CookBks)\n",
       "34   0.1045  (DoItYBks, ChildBks, GeogBks)\n",
       "35   0.1020    (ArtBks, ChildBks, GeogBks)\n",
       "36   0.1015    (DoItYBks, ArtBks, CookBks)\n",
       "37   0.1085   (DoItYBks, GeogBks, CookBks)\n",
       "38   0.1035     (ArtBks, GeogBks, CookBks)"
      ]
     },
     "execution_count": 14,
     "metadata": {},
     "output_type": "execute_result"
    }
   ],
   "source": [
    "from mlxtend.frequent_patterns import apriori\n",
    "\n",
    "apriori (df, use_colnames=True , min_support=0.1)"
   ]
  },
  {
   "cell_type": "markdown",
   "id": "d990fdc3-1479-4536-b030-d71cb885153a",
   "metadata": {},
   "source": [
    "## import the  libraries "
   ]
  },
  {
   "cell_type": "code",
   "execution_count": 15,
   "id": "0865ad55-df42-4377-a016-d6ee3f3a9515",
   "metadata": {},
   "outputs": [],
   "source": [
    "from mlxtend.frequent_patterns import apriori\n",
    "from mlxtend.frequent_patterns import association_rules\n",
    "import pandas as pd\n"
   ]
  },
  {
   "cell_type": "code",
   "execution_count": 16,
   "id": "c6384451-f10d-4a4a-98b2-ba954424a434",
   "metadata": {},
   "outputs": [],
   "source": [
    "data = pd.read_csv('./book.csv')"
   ]
  },
  {
   "cell_type": "code",
   "execution_count": 17,
   "id": "e3df0687-38dc-4a6d-9141-357dcec30bf3",
   "metadata": {},
   "outputs": [
    {
     "name": "stdout",
     "output_type": "stream",
     "text": [
      "      ChildBks  YouthBks  CookBks  DoItYBks  RefBks  ArtBks  GeogBks  \\\n",
      "0            0         1        0         1       0       0        1   \n",
      "1            1         0        0         0       0       0        0   \n",
      "2            0         0        0         0       0       0        0   \n",
      "3            1         1        1         0       1       0        1   \n",
      "4            0         0        1         0       0       0        1   \n",
      "...        ...       ...      ...       ...     ...     ...      ...   \n",
      "1995         0         0        1         0       0       1        1   \n",
      "1996         0         0        0         0       0       0        0   \n",
      "1997         0         0        0         0       0       0        0   \n",
      "1998         0         0        1         0       0       0        0   \n",
      "1999         0         0        0         0       0       0        0   \n",
      "\n",
      "      ItalCook  ItalAtlas  ItalArt  Florence  \n",
      "0            0          0        0         0  \n",
      "1            0          0        0         0  \n",
      "2            0          0        0         0  \n",
      "3            0          0        0         0  \n",
      "4            0          0        0         0  \n",
      "...        ...        ...      ...       ...  \n",
      "1995         1          0        1         1  \n",
      "1996         0          0        0         0  \n",
      "1997         0          0        0         0  \n",
      "1998         0          0        0         0  \n",
      "1999         0          0        0         0  \n",
      "\n",
      "[2000 rows x 11 columns]\n"
     ]
    }
   ],
   "source": [
    "print(df)"
   ]
  },
  {
   "cell_type": "code",
   "execution_count": 19,
   "id": "242c41c4-6de5-4a6b-be35-9830d6e7f9fb",
   "metadata": {},
   "outputs": [
    {
     "name": "stderr",
     "output_type": "stream",
     "text": [
      "/home/prajakta/.local/lib/python3.10/site-packages/mlxtend/frequent_patterns/fpcommon.py:109: DeprecationWarning: DataFrames with non-bool types result in worse computationalperformance and their support might be discontinued in the future.Please use a DataFrame with bool type\n",
      "  warnings.warn(\n"
     ]
    }
   ],
   "source": [
    "# Find frequent item sets\n",
    "frequent_itemsets = apriori(data, min_support=0.1, use_colnames=True)"
   ]
  },
  {
   "cell_type": "code",
   "execution_count": 20,
   "id": "31d83d1a-d0ab-499f-8258-8f689c650205",
   "metadata": {},
   "outputs": [],
   "source": [
    "rules = association_rules(frequent_itemsets, metric=\"confidence\", min_threshold=0.7)\n"
   ]
  },
  {
   "cell_type": "code",
   "execution_count": 21,
   "id": "43a5452d-849f-4a02-bb86-69264b2becf1",
   "metadata": {},
   "outputs": [
    {
     "name": "stdout",
     "output_type": "stream",
     "text": [
      "             antecedents consequents  antecedent support  consequent support  \\\n",
      "0               (RefBks)  (ChildBks)              0.2145               0.423   \n",
      "1              (GeogBks)  (ChildBks)              0.2760               0.423   \n",
      "2               (RefBks)   (CookBks)              0.2145               0.431   \n",
      "3             (ItalCook)   (CookBks)              0.1135               0.431   \n",
      "4   (ChildBks, YouthBks)   (CookBks)              0.1650               0.431   \n",
      "5    (YouthBks, CookBks)  (ChildBks)              0.1620               0.423   \n",
      "6   (DoItYBks, ChildBks)   (CookBks)              0.1840               0.431   \n",
      "7    (DoItYBks, CookBks)  (ChildBks)              0.1875               0.423   \n",
      "8     (ChildBks, RefBks)   (CookBks)              0.1515               0.431   \n",
      "9      (RefBks, CookBks)  (ChildBks)              0.1525               0.423   \n",
      "10    (ArtBks, ChildBks)   (CookBks)              0.1625               0.431   \n",
      "11     (ArtBks, CookBks)  (ChildBks)              0.1670               0.423   \n",
      "12   (ChildBks, GeogBks)   (CookBks)              0.1950               0.431   \n",
      "13    (GeogBks, CookBks)  (ChildBks)              0.1925               0.423   \n",
      "14   (DoItYBks, GeogBks)  (ChildBks)              0.1325               0.423   \n",
      "15     (ArtBks, GeogBks)  (ChildBks)              0.1275               0.423   \n",
      "16    (DoItYBks, ArtBks)   (CookBks)              0.1235               0.431   \n",
      "17   (DoItYBks, GeogBks)   (CookBks)              0.1325               0.431   \n",
      "18     (ArtBks, GeogBks)   (CookBks)              0.1275               0.431   \n",
      "\n",
      "    support  confidence      lift  leverage  conviction  zhangs_metric  \n",
      "0    0.1515    0.706294  1.669725  0.060767    1.964548       0.510629  \n",
      "1    0.1950    0.706522  1.670264  0.078252    1.966074       0.554271  \n",
      "2    0.1525    0.710956  1.649549  0.060050    1.968556       0.501303  \n",
      "3    0.1135    1.000000  2.320186  0.064582         inf       0.641850  \n",
      "4    0.1290    0.781818  1.813963  0.057885    2.607917       0.537390  \n",
      "5    0.1290    0.796296  1.882497  0.060474    2.832545       0.559416  \n",
      "6    0.1460    0.793478  1.841017  0.066696    2.755158       0.559831  \n",
      "7    0.1460    0.778667  1.840820  0.066687    2.606928       0.562171  \n",
      "8    0.1225    0.808581  1.876058  0.057204    2.972534       0.550345  \n",
      "9    0.1225    0.803279  1.899004  0.057993    2.933083       0.558594  \n",
      "10   0.1265    0.778462  1.806175  0.056462    2.568403       0.532948  \n",
      "11   0.1265    0.757485  1.790745  0.055859    2.379235       0.530100  \n",
      "12   0.1495    0.766667  1.778809  0.065455    2.438571       0.543883  \n",
      "13   0.1495    0.776623  1.835989  0.068072    2.583081       0.563882  \n",
      "14   0.1045    0.788679  1.864490  0.048452    2.730446       0.534479  \n",
      "15   0.1020    0.800000  1.891253  0.048067    2.885000       0.540115  \n",
      "16   0.1015    0.821862  1.906873  0.048272    3.194159       0.542591  \n",
      "17   0.1085    0.818868  1.899926  0.051392    3.141354       0.546010  \n",
      "18   0.1035    0.811765  1.883445  0.048547    3.022812       0.537602  \n"
     ]
    }
   ],
   "source": [
    "print(rules)\n"
   ]
  },
  {
   "cell_type": "code",
   "execution_count": null,
   "id": "492169a5-9365-44da-8a5b-f40a2f61f170",
   "metadata": {},
   "outputs": [],
   "source": []
  }
 ],
 "metadata": {
  "kernelspec": {
   "display_name": "Python 3 (ipykernel)",
   "language": "python",
   "name": "python3"
  },
  "language_info": {
   "codemirror_mode": {
    "name": "ipython",
    "version": 3
   },
   "file_extension": ".py",
   "mimetype": "text/x-python",
   "name": "python",
   "nbconvert_exporter": "python",
   "pygments_lexer": "ipython3",
   "version": "3.10.12"
  }
 },
 "nbformat": 4,
 "nbformat_minor": 5
}
