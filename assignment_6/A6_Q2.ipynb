{
 "cells": [
  {
   "cell_type": "markdown",
   "id": "4d667440-6af0-4b67-936f-c55e7d3f5591",
   "metadata": {},
   "source": [
    "# problem statement \n",
    "\n",
    "Refer the “Engine.csv” and observe the dataset and decide type of Regression.\n",
    "Datasets provide fuel consumption ratings and estimated carbon dioxide emissions for new light-duty vehicles for retail sale in Canada.\n",
    "Predict the Co2emission for with given fuel consumption ratings CYLINDERS, ENGINESIZE, FUELCONSUMPTION_COMB.\n",
    "Calculate different errors to evaluate the model.\n",
    "\n"
   ]
  },
  {
   "cell_type": "markdown",
   "id": "88904316-8745-4b2e-87fb-1375d1f8d3d8",
   "metadata": {},
   "source": [
    "### import required packages"
   ]
  },
  {
   "cell_type": "code",
   "execution_count": null,
   "id": "43605fbe-f3b8-47bd-9f99-284295270843",
   "metadata": {},
   "outputs": [],
   "source": [
    "import numpy as np\n",
    "import pandas as pd\n",
    "import matplotlib.pyplot as plt\n",
    "import seaborn as sns"
   ]
  },
  {
   "cell_type": "markdown",
   "id": "910208a2-c7ef-4776-bd94-1ecaea4928fc",
   "metadata": {},
   "source": [
    "### load the data"
   ]
  },
  {
   "cell_type": "code",
   "execution_count": null,
   "id": "2b210f32-4210-4d81-90ee-d6597fce5800",
   "metadata": {},
   "outputs": [],
   "source": [
    "df = pd.read_csv('./Engine.csv')\n",
    "df"
   ]
  },
  {
   "cell_type": "markdown",
   "id": "74e59929-e142-4640-9a17-302a99a02964",
   "metadata": {},
   "source": [
    "## EDA "
   ]
  },
  {
   "cell_type": "code",
   "execution_count": null,
   "id": "00d73055-767a-4ce3-872c-5422496ae8f8",
   "metadata": {},
   "outputs": [],
   "source": [
    "df.head()\n"
   ]
  },
  {
   "cell_type": "code",
   "execution_count": null,
   "id": "2d32ece3-ffea-4d3a-b5f5-dd41232bfea9",
   "metadata": {},
   "outputs": [],
   "source": [
    "df.info()"
   ]
  },
  {
   "cell_type": "code",
   "execution_count": null,
   "id": "ffe4c228-f599-4974-aa9a-61851a011b85",
   "metadata": {},
   "outputs": [],
   "source": [
    "df.columns"
   ]
  },
  {
   "cell_type": "markdown",
   "id": "bb60e87e-d123-4da2-9e86-76386c94fdc3",
   "metadata": {},
   "source": [
    "### split the data into x and y"
   ]
  },
  {
   "cell_type": "code",
   "execution_count": null,
   "id": "7726214b-bad5-48c4-8973-dbb5a4e32bb1",
   "metadata": {},
   "outputs": [],
   "source": [
    "x = df.drop(['CO2EMISSIONS'], axis=1)\n",
    "y = df['CO2EMISSIONS']"
   ]
  },
  {
   "cell_type": "markdown",
   "id": "b7b21c51-206b-4a4b-9eae-240105960667",
   "metadata": {},
   "source": [
    "### create the model"
   ]
  },
  {
   "cell_type": "code",
   "execution_count": null,
   "id": "099c8691-ee0e-40fe-b13d-98e1187d3ca4",
   "metadata": {},
   "outputs": [],
   "source": [
    "from sklearn.linear_model import LinearRegression\n",
    "model = LinearRegression()\n",
    "model.fit(x,y)"
   ]
  },
  {
   "cell_type": "code",
   "execution_count": null,
   "id": "01bbfde8-e22f-4f69-8f61-1efcfca3168d",
   "metadata": {},
   "outputs": [],
   "source": [
    "x"
   ]
  },
  {
   "cell_type": "code",
   "execution_count": null,
   "id": "06907e6e-b1f9-4196-bb04-063e06ee2817",
   "metadata": {},
   "outputs": [],
   "source": [
    "y"
   ]
  },
  {
   "cell_type": "markdown",
   "id": "4e631e90-a704-46f7-8c2b-3c8b543359cf",
   "metadata": {},
   "source": [
    "### split the data into train and test set`"
   ]
  },
  {
   "cell_type": "code",
   "execution_count": null,
   "id": "bf3cd641-a02c-4945-ba60-d84778f6b176",
   "metadata": {},
   "outputs": [],
   "source": [
    "from sklearn.model_selection import train_test_split\n",
    "\n",
    "x_train, x_test , y_train, y_test = train_test_split(x,y ,train_size=0.7, random_state=1)"
   ]
  },
  {
   "cell_type": "markdown",
   "id": "4c96211c-6610-403c-9dec-09fc6e747858",
   "metadata": {},
   "source": [
    "# model training "
   ]
  },
  {
   "cell_type": "code",
   "execution_count": null,
   "id": "bb089d57-9776-426a-b17d-1143f24e4dd5",
   "metadata": {},
   "outputs": [],
   "source": [
    "from sklearn.linear_model import LinearRegression\n",
    "\n",
    "model = LinearRegression()\n",
    "\n",
    "model.fit(x_train , y_train)"
   ]
  },
  {
   "cell_type": "markdown",
   "id": "0f75defa-b579-4ef0-80ba-7c66834e6814",
   "metadata": {},
   "source": [
    "# model Evaluation "
   ]
  },
  {
   "cell_type": "code",
   "execution_count": null,
   "id": "d19ddc63-b366-4c49-ad63-f205f0525aef",
   "metadata": {},
   "outputs": [],
   "source": [
    "y_pred = model.predict(x_test)\n",
    "y_true = y_test\n"
   ]
  },
  {
   "cell_type": "code",
   "execution_count": null,
   "id": "1cf57f5e-086c-44ef-b03a-9ab10d616faf",
   "metadata": {},
   "outputs": [],
   "source": [
    "from sklearn.metrics import mean_absolute_error\n",
    "\n",
    "mae = mean_absolute_error(y_true , y_pred)\n",
    "mae"
   ]
  },
  {
   "cell_type": "code",
   "execution_count": null,
   "id": "af4d4186-c10d-4c1e-9c5e-f9b05f36efb8",
   "metadata": {},
   "outputs": [],
   "source": [
    "from sklearn.metrics import mean_squared_error\n",
    "\n",
    "# mean squared error (MSE)\n",
    "mse = mean_squared_error(y_true, y_pred)\n",
    "mse"
   ]
  },
  {
   "cell_type": "code",
   "execution_count": null,
   "id": "3a67a39b-55e8-4407-ab03-04a0aa25c725",
   "metadata": {},
   "outputs": [],
   "source": [
    "from sklearn.metrics import root_mean_squared_error\n",
    "\n",
    "rmse = root_mean_squared_error(y_true , y_pred)\n",
    "rmse"
   ]
  },
  {
   "cell_type": "code",
   "execution_count": null,
   "id": "00e61e6e-993e-460e-b5b4-f9591ad98b3b",
   "metadata": {},
   "outputs": [],
   "source": [
    "from sklearn.metrics import r2_score\n",
    "\n",
    "r2 = r2_score(y_true , y_pred)\n",
    "r2"
   ]
  },
  {
   "cell_type": "code",
   "execution_count": null,
   "id": "ae2e55f6-a463-43d2-8638-9a9cace3da4e",
   "metadata": {},
   "outputs": [],
   "source": []
  }
 ],
 "metadata": {
  "kernelspec": {
   "display_name": "Python 3 (ipykernel)",
   "language": "python",
   "name": "python3"
  },
  "language_info": {
   "codemirror_mode": {
    "name": "ipython",
    "version": 3
   },
   "file_extension": ".py",
   "mimetype": "text/x-python",
   "name": "python",
   "nbconvert_exporter": "python",
   "pygments_lexer": "ipython3",
   "version": "3.10.12"
  }
 },
 "nbformat": 4,
 "nbformat_minor": 5
}
