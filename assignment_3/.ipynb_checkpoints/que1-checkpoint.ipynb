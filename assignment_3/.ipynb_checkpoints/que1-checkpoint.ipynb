{
 "cells": [
  {
   "cell_type": "code",
   "execution_count": 5,
   "id": "2a741bdc-358d-481c-b704-d3839ec735d6",
   "metadata": {},
   "outputs": [],
   "source": [
    "import numpy as np\n",
    "import pandas as pd\n",
    "import matplotlib.pyplot as plt\n",
    "import seaborn as sns"
   ]
  },
  {
   "cell_type": "code",
   "execution_count": 6,
   "id": "9e50eab2-31db-4cf3-8e14-697331763b0e",
   "metadata": {},
   "outputs": [
    {
     "name": "stdout",
     "output_type": "stream",
     "text": [
      "      Unnamed: 0   Balance  Qual_miles  cc1_miles  cc2_miles  cc3_miles  \\\n",
      "0              0  0.016508         0.0       0.00        0.0        0.0   \n",
      "1              1  0.011288         0.0       0.00        0.0        0.0   \n",
      "2              2  0.024257         0.0       0.00        0.0        0.0   \n",
      "3              3  0.008667         0.0       0.00        0.0        0.0   \n",
      "4              4  0.057338         0.0       0.75        0.0        0.0   \n",
      "...          ...       ...         ...        ...        ...        ...   \n",
      "3994        3994  0.010837         0.0       0.00        0.0        0.0   \n",
      "3995        3995  0.037766         0.0       0.00        0.0        0.0   \n",
      "3996        3996  0.043169         0.0       0.50        0.0        0.0   \n",
      "3997        3997  0.032202         0.0       0.00        0.0        0.0   \n",
      "3998        3998  0.001769         0.0       0.00        0.0        0.0   \n",
      "\n",
      "      Bonus_miles  Bonus_trans  Flight_miles_12mo  Flight_trans_12  \\\n",
      "0        0.000660     0.011628           0.000000         0.000000   \n",
      "1        0.000815     0.023256           0.000000         0.000000   \n",
      "2        0.015636     0.046512           0.000000         0.000000   \n",
      "3        0.001896     0.011628           0.000000         0.000000   \n",
      "4        0.164211     0.302326           0.067398         0.075472   \n",
      "...           ...          ...                ...              ...   \n",
      "3994     0.032330     0.046512           0.006490         0.018868   \n",
      "3995     0.003720     0.058140           0.000000         0.000000   \n",
      "3996     0.096505     0.093023           0.000000         0.000000   \n",
      "3997     0.001896     0.011628           0.016225         0.018868   \n",
      "3998     0.000000     0.000000           0.000000         0.000000   \n",
      "\n",
      "      Days_since_enroll  Award?  \n",
      "0              0.843742     0.0  \n",
      "1              0.839884     0.0  \n",
      "2              0.847842     0.0  \n",
      "3              0.837955     0.0  \n",
      "4              0.835905     1.0  \n",
      "...                 ...     ...  \n",
      "3994           0.168917     1.0  \n",
      "3995           0.167953     1.0  \n",
      "3996           0.168797     1.0  \n",
      "3997           0.168676     0.0  \n",
      "3998           0.168314     0.0  \n",
      "\n",
      "[3999 rows x 12 columns]\n"
     ]
    }
   ],
   "source": [
    "df = pd.read_csv('./East_std.csv')\n",
    "print(df)"
   ]
  },
  {
   "cell_type": "code",
   "execution_count": 41,
   "id": "a7acd13a-4bce-4861-8178-a6de0508a108",
   "metadata": {},
   "outputs": [
    {
     "ename": "KeyError",
     "evalue": "\"['Award?'] not found in axis\"",
     "output_type": "error",
     "traceback": [
      "\u001b[0;31m---------------------------------------------------------------------------\u001b[0m",
      "\u001b[0;31mKeyError\u001b[0m                                  Traceback (most recent call last)",
      "Cell \u001b[0;32mIn[41], line 1\u001b[0m\n\u001b[0;32m----> 1\u001b[0m \u001b[43mdf\u001b[49m\u001b[38;5;241;43m.\u001b[39;49m\u001b[43mdrop\u001b[49m\u001b[43m(\u001b[49m\u001b[43m[\u001b[49m\u001b[38;5;124;43m'\u001b[39;49m\u001b[38;5;124;43mAward?\u001b[39;49m\u001b[38;5;124;43m'\u001b[39;49m\u001b[43m,\u001b[49m\u001b[43m \u001b[49m\u001b[38;5;124;43m'\u001b[39;49m\u001b[38;5;124;43mUnnamed: 0\u001b[39;49m\u001b[38;5;124;43m'\u001b[39;49m\u001b[43m]\u001b[49m\u001b[43m,\u001b[49m\u001b[43m \u001b[49m\u001b[43maxis\u001b[49m\u001b[38;5;241;43m=\u001b[39;49m\u001b[38;5;241;43m1\u001b[39;49m\u001b[43m,\u001b[49m\u001b[43m \u001b[49m\u001b[43minplace\u001b[49m\u001b[38;5;241;43m=\u001b[39;49m\u001b[38;5;28;43;01mTrue\u001b[39;49;00m\u001b[43m)\u001b[49m\n\u001b[1;32m      2\u001b[0m \u001b[38;5;28mprint\u001b[39m(df\u001b[38;5;241m.\u001b[39mcolumns)\n",
      "File \u001b[0;32m/usr/local/lib/python3.10/dist-packages/pandas/core/frame.py:5568\u001b[0m, in \u001b[0;36mDataFrame.drop\u001b[0;34m(self, labels, axis, index, columns, level, inplace, errors)\u001b[0m\n\u001b[1;32m   5420\u001b[0m \u001b[38;5;28;01mdef\u001b[39;00m \u001b[38;5;21mdrop\u001b[39m(\n\u001b[1;32m   5421\u001b[0m     \u001b[38;5;28mself\u001b[39m,\n\u001b[1;32m   5422\u001b[0m     labels: IndexLabel \u001b[38;5;241m|\u001b[39m \u001b[38;5;28;01mNone\u001b[39;00m \u001b[38;5;241m=\u001b[39m \u001b[38;5;28;01mNone\u001b[39;00m,\n\u001b[0;32m   (...)\u001b[0m\n\u001b[1;32m   5429\u001b[0m     errors: IgnoreRaise \u001b[38;5;241m=\u001b[39m \u001b[38;5;124m\"\u001b[39m\u001b[38;5;124mraise\u001b[39m\u001b[38;5;124m\"\u001b[39m,\n\u001b[1;32m   5430\u001b[0m ) \u001b[38;5;241m-\u001b[39m\u001b[38;5;241m>\u001b[39m DataFrame \u001b[38;5;241m|\u001b[39m \u001b[38;5;28;01mNone\u001b[39;00m:\n\u001b[1;32m   5431\u001b[0m \u001b[38;5;250m    \u001b[39m\u001b[38;5;124;03m\"\"\"\u001b[39;00m\n\u001b[1;32m   5432\u001b[0m \u001b[38;5;124;03m    Drop specified labels from rows or columns.\u001b[39;00m\n\u001b[1;32m   5433\u001b[0m \n\u001b[0;32m   (...)\u001b[0m\n\u001b[1;32m   5566\u001b[0m \u001b[38;5;124;03m            weight  1.0     0.8\u001b[39;00m\n\u001b[1;32m   5567\u001b[0m \u001b[38;5;124;03m    \"\"\"\u001b[39;00m\n\u001b[0;32m-> 5568\u001b[0m     \u001b[38;5;28;01mreturn\u001b[39;00m \u001b[38;5;28;43msuper\u001b[39;49m\u001b[43m(\u001b[49m\u001b[43m)\u001b[49m\u001b[38;5;241;43m.\u001b[39;49m\u001b[43mdrop\u001b[49m\u001b[43m(\u001b[49m\n\u001b[1;32m   5569\u001b[0m \u001b[43m        \u001b[49m\u001b[43mlabels\u001b[49m\u001b[38;5;241;43m=\u001b[39;49m\u001b[43mlabels\u001b[49m\u001b[43m,\u001b[49m\n\u001b[1;32m   5570\u001b[0m \u001b[43m        \u001b[49m\u001b[43maxis\u001b[49m\u001b[38;5;241;43m=\u001b[39;49m\u001b[43maxis\u001b[49m\u001b[43m,\u001b[49m\n\u001b[1;32m   5571\u001b[0m \u001b[43m        \u001b[49m\u001b[43mindex\u001b[49m\u001b[38;5;241;43m=\u001b[39;49m\u001b[43mindex\u001b[49m\u001b[43m,\u001b[49m\n\u001b[1;32m   5572\u001b[0m \u001b[43m        \u001b[49m\u001b[43mcolumns\u001b[49m\u001b[38;5;241;43m=\u001b[39;49m\u001b[43mcolumns\u001b[49m\u001b[43m,\u001b[49m\n\u001b[1;32m   5573\u001b[0m \u001b[43m        \u001b[49m\u001b[43mlevel\u001b[49m\u001b[38;5;241;43m=\u001b[39;49m\u001b[43mlevel\u001b[49m\u001b[43m,\u001b[49m\n\u001b[1;32m   5574\u001b[0m \u001b[43m        \u001b[49m\u001b[43minplace\u001b[49m\u001b[38;5;241;43m=\u001b[39;49m\u001b[43minplace\u001b[49m\u001b[43m,\u001b[49m\n\u001b[1;32m   5575\u001b[0m \u001b[43m        \u001b[49m\u001b[43merrors\u001b[49m\u001b[38;5;241;43m=\u001b[39;49m\u001b[43merrors\u001b[49m\u001b[43m,\u001b[49m\n\u001b[1;32m   5576\u001b[0m \u001b[43m    \u001b[49m\u001b[43m)\u001b[49m\n",
      "File \u001b[0;32m/usr/local/lib/python3.10/dist-packages/pandas/core/generic.py:4785\u001b[0m, in \u001b[0;36mNDFrame.drop\u001b[0;34m(self, labels, axis, index, columns, level, inplace, errors)\u001b[0m\n\u001b[1;32m   4783\u001b[0m \u001b[38;5;28;01mfor\u001b[39;00m axis, labels \u001b[38;5;129;01min\u001b[39;00m axes\u001b[38;5;241m.\u001b[39mitems():\n\u001b[1;32m   4784\u001b[0m     \u001b[38;5;28;01mif\u001b[39;00m labels \u001b[38;5;129;01mis\u001b[39;00m \u001b[38;5;129;01mnot\u001b[39;00m \u001b[38;5;28;01mNone\u001b[39;00m:\n\u001b[0;32m-> 4785\u001b[0m         obj \u001b[38;5;241m=\u001b[39m \u001b[43mobj\u001b[49m\u001b[38;5;241;43m.\u001b[39;49m\u001b[43m_drop_axis\u001b[49m\u001b[43m(\u001b[49m\u001b[43mlabels\u001b[49m\u001b[43m,\u001b[49m\u001b[43m \u001b[49m\u001b[43maxis\u001b[49m\u001b[43m,\u001b[49m\u001b[43m \u001b[49m\u001b[43mlevel\u001b[49m\u001b[38;5;241;43m=\u001b[39;49m\u001b[43mlevel\u001b[49m\u001b[43m,\u001b[49m\u001b[43m \u001b[49m\u001b[43merrors\u001b[49m\u001b[38;5;241;43m=\u001b[39;49m\u001b[43merrors\u001b[49m\u001b[43m)\u001b[49m\n\u001b[1;32m   4787\u001b[0m \u001b[38;5;28;01mif\u001b[39;00m inplace:\n\u001b[1;32m   4788\u001b[0m     \u001b[38;5;28mself\u001b[39m\u001b[38;5;241m.\u001b[39m_update_inplace(obj)\n",
      "File \u001b[0;32m/usr/local/lib/python3.10/dist-packages/pandas/core/generic.py:4827\u001b[0m, in \u001b[0;36mNDFrame._drop_axis\u001b[0;34m(self, labels, axis, level, errors, only_slice)\u001b[0m\n\u001b[1;32m   4825\u001b[0m         new_axis \u001b[38;5;241m=\u001b[39m axis\u001b[38;5;241m.\u001b[39mdrop(labels, level\u001b[38;5;241m=\u001b[39mlevel, errors\u001b[38;5;241m=\u001b[39merrors)\n\u001b[1;32m   4826\u001b[0m     \u001b[38;5;28;01melse\u001b[39;00m:\n\u001b[0;32m-> 4827\u001b[0m         new_axis \u001b[38;5;241m=\u001b[39m \u001b[43maxis\u001b[49m\u001b[38;5;241;43m.\u001b[39;49m\u001b[43mdrop\u001b[49m\u001b[43m(\u001b[49m\u001b[43mlabels\u001b[49m\u001b[43m,\u001b[49m\u001b[43m \u001b[49m\u001b[43merrors\u001b[49m\u001b[38;5;241;43m=\u001b[39;49m\u001b[43merrors\u001b[49m\u001b[43m)\u001b[49m\n\u001b[1;32m   4828\u001b[0m     indexer \u001b[38;5;241m=\u001b[39m axis\u001b[38;5;241m.\u001b[39mget_indexer(new_axis)\n\u001b[1;32m   4830\u001b[0m \u001b[38;5;66;03m# Case for non-unique axis\u001b[39;00m\n\u001b[1;32m   4831\u001b[0m \u001b[38;5;28;01melse\u001b[39;00m:\n",
      "File \u001b[0;32m/usr/local/lib/python3.10/dist-packages/pandas/core/indexes/base.py:7070\u001b[0m, in \u001b[0;36mIndex.drop\u001b[0;34m(self, labels, errors)\u001b[0m\n\u001b[1;32m   7068\u001b[0m \u001b[38;5;28;01mif\u001b[39;00m mask\u001b[38;5;241m.\u001b[39many():\n\u001b[1;32m   7069\u001b[0m     \u001b[38;5;28;01mif\u001b[39;00m errors \u001b[38;5;241m!=\u001b[39m \u001b[38;5;124m\"\u001b[39m\u001b[38;5;124mignore\u001b[39m\u001b[38;5;124m\"\u001b[39m:\n\u001b[0;32m-> 7070\u001b[0m         \u001b[38;5;28;01mraise\u001b[39;00m \u001b[38;5;167;01mKeyError\u001b[39;00m(\u001b[38;5;124mf\u001b[39m\u001b[38;5;124m\"\u001b[39m\u001b[38;5;132;01m{\u001b[39;00mlabels[mask]\u001b[38;5;241m.\u001b[39mtolist()\u001b[38;5;132;01m}\u001b[39;00m\u001b[38;5;124m not found in axis\u001b[39m\u001b[38;5;124m\"\u001b[39m)\n\u001b[1;32m   7071\u001b[0m     indexer \u001b[38;5;241m=\u001b[39m indexer[\u001b[38;5;241m~\u001b[39mmask]\n\u001b[1;32m   7072\u001b[0m \u001b[38;5;28;01mreturn\u001b[39;00m \u001b[38;5;28mself\u001b[39m\u001b[38;5;241m.\u001b[39mdelete(indexer)\n",
      "\u001b[0;31mKeyError\u001b[0m: \"['Award?'] not found in axis\""
     ]
    }
   ],
   "source": [
    "df.drop(['Award?'], axis=1, inplace=True)\n",
    "print(df.columns)"
   ]
  },
  {
   "cell_type": "code",
   "execution_count": 26,
   "id": "70c37097-c36e-4600-9de2-6219360b97e7",
   "metadata": {},
   "outputs": [
    {
     "name": "stdout",
     "output_type": "stream",
     "text": [
      "[5329334898.270579, 1332337203.2633219, 592173251.0247321, 333137883.10640526, 213279397.25320914, 148121296.62987703, 108933814.13312687, 83358179.83460459, 65976579.499168806, 53497908.52697867]\n"
     ]
    }
   ],
   "source": [
    "# number of clusters\n",
    "\n",
    "no_of_clusters = np.arange(1,11)\n",
    "wss = []\n",
    "from sklearn.cluster import KMeans \n",
    "        # create the model for k number of clusters\n",
    "for k in no_of_clusters:\n",
    "    model = KMeans(n_clusters=k, random_state = 12345)\n",
    "    #fit the data \n",
    "    model.fit(df)\n",
    "    #collect the wss for elbow method \n",
    "    wss.append(model.inertia_)\n",
    "print(wss)   #print the diff between the two points\n",
    "    \n",
    "    \n",
    "\n"
   ]
  },
  {
   "cell_type": "code",
   "execution_count": 24,
   "id": "1549c571-5a35-4f89-b68f-62b9ea808083",
   "metadata": {},
   "outputs": [
    {
     "data": {
      "image/png": "[encoded data removed]",
      "text/plain": [
       "<Figure size 640x480 with 1 Axes>"
      ]
     },
     "metadata": {},
     "output_type": "display_data"
    }
   ],
   "source": [
    "#plot a chart for elbow method \n",
    "plt.plot(no_of_clusters, wss, label = 'WSS')\n",
    "plt.scatter(no_of_clusters, wss)\n",
    "plt.xlabel(\"no of clusters\")\n",
    "plt.ylabel(\"within sum of squares\")\n",
    "plt.title(\"elbow method visualisation\")\n",
    "plt.legend()\n",
    "plt.show()"
   ]
  },
  {
   "cell_type": "code",
   "execution_count": 28,
   "id": "09c8c873-fe97-49c4-9632-cdcb798b106e",
   "metadata": {},
   "outputs": [],
   "source": [
    "#create the model \n",
    "from sklearn.cluster import KMeans \n",
    "#create an object of KMeans class\n",
    "model = KMeans(n_clusters=4, random_state=12345)\n",
    "model=model.fit(df)\n",
    "a=model.labels_"
   ]
  },
  {
   "cell_type": "code",
   "execution_count": 29,
   "id": "8e9f5b7b-96a2-474e-bd14-775510f9fee0",
   "metadata": {},
   "outputs": [
    {
     "data": {
      "text/plain": [
       "array([1, 1, 1, ..., 0, 0, 0], dtype=int32)"
      ]
     },
     "execution_count": 29,
     "metadata": {},
     "output_type": "execute_result"
    }
   ],
   "source": [
    "print(a)"
   ]
  },
  {
   "cell_type": "code",
   "execution_count": 31,
   "id": "8c6288fa-7af2-48e6-ae99-b555c8b51fe0",
   "metadata": {},
   "outputs": [
    {
     "data": {
      "text/html": [
       "<div>\n",
       "<style scoped>\n",
       "    .dataframe tbody tr th:only-of-type {\n",
       "        vertical-align: middle;\n",
       "    }\n",
       "\n",
       "    .dataframe tbody tr th {\n",
       "        vertical-align: top;\n",
       "    }\n",
       "\n",
       "    .dataframe thead th {\n",
       "        text-align: right;\n",
       "    }\n",
       "</style>\n",
       "<table border=\"1\" class=\"dataframe\">\n",
       "  <thead>\n",
       "    <tr style=\"text-align: right;\">\n",
       "      <th></th>\n",
       "      <th>0</th>\n",
       "    </tr>\n",
       "  </thead>\n",
       "  <tbody>\n",
       "    <tr>\n",
       "      <th>0</th>\n",
       "      <td>1</td>\n",
       "    </tr>\n",
       "    <tr>\n",
       "      <th>1</th>\n",
       "      <td>1</td>\n",
       "    </tr>\n",
       "    <tr>\n",
       "      <th>2</th>\n",
       "      <td>1</td>\n",
       "    </tr>\n",
       "    <tr>\n",
       "      <th>3</th>\n",
       "      <td>1</td>\n",
       "    </tr>\n",
       "    <tr>\n",
       "      <th>4</th>\n",
       "      <td>1</td>\n",
       "    </tr>\n",
       "    <tr>\n",
       "      <th>...</th>\n",
       "      <td>...</td>\n",
       "    </tr>\n",
       "    <tr>\n",
       "      <th>3994</th>\n",
       "      <td>0</td>\n",
       "    </tr>\n",
       "    <tr>\n",
       "      <th>3995</th>\n",
       "      <td>0</td>\n",
       "    </tr>\n",
       "    <tr>\n",
       "      <th>3996</th>\n",
       "      <td>0</td>\n",
       "    </tr>\n",
       "    <tr>\n",
       "      <th>3997</th>\n",
       "      <td>0</td>\n",
       "    </tr>\n",
       "    <tr>\n",
       "      <th>3998</th>\n",
       "      <td>0</td>\n",
       "    </tr>\n",
       "  </tbody>\n",
       "</table>\n",
       "<p>3999 rows × 1 columns</p>\n",
       "</div>"
      ],
      "text/plain": [
       "      0\n",
       "0     1\n",
       "1     1\n",
       "2     1\n",
       "3     1\n",
       "4     1\n",
       "...  ..\n",
       "3994  0\n",
       "3995  0\n",
       "3996  0\n",
       "3997  0\n",
       "3998  0\n",
       "\n",
       "[3999 rows x 1 columns]"
      ]
     },
     "execution_count": 31,
     "metadata": {},
     "output_type": "execute_result"
    }
   ],
   "source": [
    "ad=pd.DataFrame(a)\n",
    "print(ad)"
   ]
  },
  {
   "cell_type": "code",
   "execution_count": 43,
   "id": "8b641077-16fd-413c-bf3e-9a52e5b263e6",
   "metadata": {},
   "outputs": [
    {
     "name": "stdout",
     "output_type": "stream",
     "text": [
      "      Unnamed: 0   Balance  Qual_miles  cc1_miles  cc2_miles  cc3_miles  \\\n",
      "0              0  0.016508         0.0       0.00        0.0        0.0   \n",
      "1              1  0.011288         0.0       0.00        0.0        0.0   \n",
      "2              2  0.024257         0.0       0.00        0.0        0.0   \n",
      "3              3  0.008667         0.0       0.00        0.0        0.0   \n",
      "4              4  0.057338         0.0       0.75        0.0        0.0   \n",
      "...          ...       ...         ...        ...        ...        ...   \n",
      "3994        3994  0.010837         0.0       0.00        0.0        0.0   \n",
      "3995        3995  0.037766         0.0       0.00        0.0        0.0   \n",
      "3996        3996  0.043169         0.0       0.50        0.0        0.0   \n",
      "3997        3997  0.032202         0.0       0.00        0.0        0.0   \n",
      "3998        3998  0.001769         0.0       0.00        0.0        0.0   \n",
      "\n",
      "      Bonus_miles  Bonus_trans  Flight_miles_12mo  Flight_trans_12  \\\n",
      "0        0.000660     0.011628           0.000000         0.000000   \n",
      "1        0.000815     0.023256           0.000000         0.000000   \n",
      "2        0.015636     0.046512           0.000000         0.000000   \n",
      "3        0.001896     0.011628           0.000000         0.000000   \n",
      "4        0.164211     0.302326           0.067398         0.075472   \n",
      "...           ...          ...                ...              ...   \n",
      "3994     0.032330     0.046512           0.006490         0.018868   \n",
      "3995     0.003720     0.058140           0.000000         0.000000   \n",
      "3996     0.096505     0.093023           0.000000         0.000000   \n",
      "3997     0.001896     0.011628           0.016225         0.018868   \n",
      "3998     0.000000     0.000000           0.000000         0.000000   \n",
      "\n",
      "      Days_since_enroll  0  \n",
      "0              0.843742  1  \n",
      "1              0.839884  1  \n",
      "2              0.847842  1  \n",
      "3              0.837955  1  \n",
      "4              0.835905  1  \n",
      "...                 ... ..  \n",
      "3994           0.168917  0  \n",
      "3995           0.167953  0  \n",
      "3996           0.168797  0  \n",
      "3997           0.168676  0  \n",
      "3998           0.168314  0  \n",
      "\n",
      "[3999 rows x 12 columns]\n"
     ]
    }
   ],
   "source": [
    "fd=pd.concat([df,ad],axis=1)\n",
    "print(fd)"
   ]
  },
  {
   "cell_type": "code",
   "execution_count": null,
   "id": "f049051d-63db-4c3f-b523-18583602125f",
   "metadata": {},
   "outputs": [],
   "source": []
  }
 ],
 "metadata": {
  "kernelspec": {
   "display_name": "Python 3 (ipykernel)",
   "language": "python",
   "name": "python3"
  },
  "language_info": {
   "codemirror_mode": {
    "name": "ipython",
    "version": 3
   },
   "file_extension": ".py",
   "mimetype": "text/x-python",
   "name": "python",
   "nbconvert_exporter": "python",
   "pygments_lexer": "ipython3",
   "version": "3.10.12"
  }
 },
 "nbformat": 4,
 "nbformat_minor": 5
}
